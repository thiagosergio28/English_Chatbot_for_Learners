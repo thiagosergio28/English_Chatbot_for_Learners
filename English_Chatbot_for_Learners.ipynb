{
  "nbformat": 4,
  "nbformat_minor": 0,
  "metadata": {
    "colab": {
      "provenance": [],
      "authorship_tag": "ABX9TyN6ADpIUwdwzJks2sQ9+KA9",
      "include_colab_link": true
    },
    "kernelspec": {
      "name": "python3",
      "display_name": "Python 3"
    },
    "language_info": {
      "name": "python"
    }
  },
  "cells": [
    {
      "cell_type": "markdown",
      "metadata": {
        "id": "view-in-github",
        "colab_type": "text"
      },
      "source": [
        "<a href=\"https://colab.research.google.com/github/thiagosergio28/English_Chatbot_for_Learners/blob/main/English_Chatbot_for_Learners.ipynb\" target=\"_parent\"><img src=\"https://colab.research.google.com/assets/colab-badge.svg\" alt=\"Open In Colab\"/></a>"
      ]
    },
    {
      "cell_type": "markdown",
      "source": [
        "# **English Chatbot for Learners!**"
      ],
      "metadata": {
        "id": "xwBe9HklY4qS"
      }
    },
    {
      "cell_type": "markdown",
      "source": [
        "Sente dificuldades no aprendizado gramatical de inglês? Este *chatbot* pode te ajudar! Com atividades precisas baseadas no assunto que você deseja aprender, o *English Chatbot for Learners* gera 5 exercícios a respeito do tópico o qual você está estudando e, caso haja necessidade, pode até pedir mais questões! **Teste agora!**\n",
        "\n"
      ],
      "metadata": {
        "id": "X52NX2KeY-QE"
      }
    },
    {
      "cell_type": "markdown",
      "source": [
        "# Conectando com o Gemini!"
      ],
      "metadata": {
        "id": "XK9kY_DiG-xM"
      }
    },
    {
      "cell_type": "markdown",
      "source": [
        "🖥️ **Instalando a SDK**"
      ],
      "metadata": {
        "id": "iQ1N_vpyeSp1"
      }
    },
    {
      "cell_type": "code",
      "source": [
        "!pip install -q -U google-generativeai"
      ],
      "metadata": {
        "id": "fetupHEwd2Yt"
      },
      "execution_count": 6,
      "outputs": []
    },
    {
      "cell_type": "markdown",
      "source": [
        "🔑 **Minha API Key**"
      ],
      "metadata": {
        "id": "Fxs94p_fepe5"
      }
    },
    {
      "cell_type": "code",
      "source": [
        "import google.generativeai as genai\n",
        "from google.colab import userdata\n",
        "\n",
        "my_api_key = userdata.get(\"my_api_key\")\n",
        "genai.configure(api_key = my_api_key)"
      ],
      "metadata": {
        "id": "V3aQd2a-epKw"
      },
      "execution_count": 7,
      "outputs": []
    },
    {
      "cell_type": "markdown",
      "source": [
        "# Configurações da IA!"
      ],
      "metadata": {
        "id": "otuDcbC1GjLk"
      }
    },
    {
      "cell_type": "markdown",
      "source": [
        "⚙️ **Definições básicas**"
      ],
      "metadata": {
        "id": "Oy6-7Go7LMMf"
      }
    },
    {
      "cell_type": "code",
      "source": [
        "dict_generation_config = {\n",
        "    \"candidate_count\": 1,\n",
        "    \"temperature\": 0.5\n",
        "}\n",
        "\n",
        "dict_safety_settings = [\n",
        "  {\n",
        "    \"category\": \"HARM_CATEGORY_HARASSMENT\",\n",
        "    \"threshold\": \"BLOCK_ONLY_HIGH\"\n",
        "  },\n",
        "  {\n",
        "    \"category\": \"HARM_CATEGORY_HATE_SPEECH\",\n",
        "    \"threshold\": \"BLOCK_ONLY_HIGH\"\n",
        "  },\n",
        "  {\n",
        "    \"category\": \"HARM_CATEGORY_SEXUALLY_EXPLICIT\",\n",
        "    \"threshold\": \"BLOCK_ONLY_HIGH\"\n",
        "  },\n",
        "  {\n",
        "    \"category\": \"HARM_CATEGORY_DANGEROUS_CONTENT\",\n",
        "    \"threshold\": \"BLOCK_ONLY_HIGH\"\n",
        "  }\n",
        "]\n",
        "\n",
        "dict_system_instruction = \"Você é um professor de inglês.\""
      ],
      "metadata": {
        "id": "EAXstB8m_Sq2"
      },
      "execution_count": 8,
      "outputs": []
    },
    {
      "cell_type": "markdown",
      "source": [
        " ✏️ **Modelo da IA**"
      ],
      "metadata": {
        "id": "EHv9VR4BLh0O"
      }
    },
    {
      "cell_type": "code",
      "source": [
        "model = genai.GenerativeModel(model_name=\"gemini-1.5-pro-latest\",\n",
        "                              generation_config=dict_generation_config,\n",
        "                              safety_settings=dict_safety_settings,\n",
        "                              system_instruction=dict_system_instruction)"
      ],
      "metadata": {
        "id": "yJ4_gP9eff2q"
      },
      "execution_count": 9,
      "outputs": []
    },
    {
      "cell_type": "markdown",
      "source": [
        "# Modelo Final!"
      ],
      "metadata": {
        "id": "mPvLBzIPHL3L"
      }
    },
    {
      "cell_type": "markdown",
      "source": [
        "🎨 **Markdown**"
      ],
      "metadata": {
        "id": "xUZLA3_CLx-X"
      }
    },
    {
      "cell_type": "code",
      "source": [
        "import textwrap\n",
        "from IPython.display import display\n",
        "from IPython.display import Markdown\n",
        "\n",
        "def to_markdown(text):\n",
        "  text = text.replace('•', '*')\n",
        "  return Markdown(textwrap.indent(text, '\\n', predicate=lambda _: True))"
      ],
      "metadata": {
        "id": "K1I5NrnFQWk3"
      },
      "execution_count": 10,
      "outputs": []
    },
    {
      "cell_type": "markdown",
      "source": [
        "📌 **Modelo Final**"
      ],
      "metadata": {
        "id": "HWiKa1PSMSIY"
      }
    },
    {
      "cell_type": "code",
      "source": [
        "chat = model.start_chat(history=[])\n",
        "\n",
        "print(\"Olá! Bem-vindo ao English Chatbot for Learners! (para sair, digite 'fim')\")\n",
        "prompt = input(\"Qual assunto você quer aprender hoje?: \")\n",
        "\n",
        "while prompt != \"fim\":\n",
        "  response = chat.send_message(f\"Faça 5 exercícios acerca do assunto {prompt} da língua inglesa. Seja direto, pois seu alvo são estudantes.\")\n",
        "\n",
        "  # Variável para pegar quantos itens há no histórico\n",
        "  len_history = len(chat.history)\n",
        "\n",
        "  for message in chat.history:\n",
        "\n",
        "    # Usei a variável definida anteriormente para pegar o último item do histórico, subtraindo 1 dela, pois a posição do último item de uma lista é a quantidade de elementos que existem nela menos 1.\n",
        "    # Isso fará com que apenas a última resposta do chatbot seja exibida na tela, evitando que o histórico inteiro seja mostrado.\n",
        "    if chat.history.index(message) == len_history - 1:\n",
        "      display(to_markdown(message.parts[0].text))\n",
        "\n",
        "  print(\"Boa atividade!\\n\")\n",
        "\n",
        "  repeat = input(\"Você quer fazer mais questões sobre esse assunto?(Responda 'yes' caso queira): \")\n",
        "  if repeat == \"yes\":\n",
        "    response = chat.send_message(f\"Faça outros 5 exercícios sobre o assunto anterior. Não repita as questões anteriores.\")\n",
        "  else:\n",
        "    prompt = input(\"Qual assunto você quer aprender?: \")\n",
        "\n",
        "print(\"Obrigado por usar meu chatbot! :D\")"
      ],
      "metadata": {
        "id": "oN0OKrDuBRre",
        "collapsed": true,
        "colab": {
          "base_uri": "https://localhost:8080/",
          "height": 1000
        },
        "outputId": "e4f89398-48c9-415c-c661-d18532b41e10"
      },
      "execution_count": 18,
      "outputs": [
        {
          "name": "stdout",
          "output_type": "stream",
          "text": [
            "Qual assunto você quer aprender?: Simple Past\n"
          ]
        },
        {
          "output_type": "display_data",
          "data": {
            "text/plain": [
              "<IPython.core.display.Markdown object>"
            ],
            "text/markdown": "\n## Exercícios Simple Past\n\n\n\n**1. Complete as frases com o verbo no Simple Past:**\n\n\n\na) I ____ (watch) a movie last night.\n\nb) She ____ (not study) for the test.\n\nc) We ____ (go) to the beach yesterday.\n\nd) They ____ (eat) pizza for dinner.\n\ne) He ____ (write) a letter to his friend.\n\n\n\n**2. Escreva frases no Simple Past usando as palavras abaixo:**\n\n\n\na) play / soccer / yesterday\n\nb) visit / grandparents / last week\n\nc) not / rain / this morning\n\nd) buy / new shoes / last month\n\ne) read / a book / last night\n\n\n\n**3. Transforme as frases para a forma negativa no Simple Past:**\n\n\n\na) I walked to school.\n\nb) They played video games.\n\nc) He studied English.\n\nd) We ate breakfast.\n\ne) She watched TV.\n\n\n\n**4. Responda as perguntas usando o Simple Past:**\n\n\n\na) What did you eat for breakfast?\n\nb) Where did you go yesterday?\n\nc) What did you do last weekend?\n\nd) Did you watch TV last night?\n\ne) Did you study English yesterday?\n\n\n\n**5. Escreva um parágrafo curto no Simple Past sobre o que você fez ontem.**\n\n\n\nLembre-se de usar verbos regulares e irregulares no passado! \n"
          },
          "metadata": {}
        },
        {
          "name": "stdout",
          "output_type": "stream",
          "text": [
            "Boa atividade!\n",
            "\n",
            "Você quer fazer mais questões sobre esse assunto?(Responda 'yes' caso queira): n\n",
            "Qual assunto você quer aprender?: Farm\n"
          ]
        },
        {
          "output_type": "display_data",
          "data": {
            "text/plain": [
              "<IPython.core.display.Markdown object>"
            ],
            "text/markdown": "\n## Exercícios: Farm Animals\n\n\n\n**1. Combine as palavras com as figuras:**\n\n\n\n**(a) cow   (b) pig   (c) chicken   (d) horse   (e) sheep**\n\n\n\n**(1) Imagem de um cavalo  (2) Imagem de uma vaca (3) Imagem de uma galinha (4) Imagem de um porco (5) Imagem de uma ovelha**\n\n\n\n**2. Complete as frases com o nome dos animais:**\n\n\n\na) A ______ gives us milk.\n\nb) A ______ lays eggs.\n\nc) A ______ says \"oink oink\".\n\nd) A ______ says \"moo\".\n\ne) A ______ says \"neigh\".\n\n\n\n**3. O que esses animais produzem na fazenda? Combine as colunas:**\n\n\n\n**(a) cow  (b) chicken  (c) sheep  (d) bees**\n\n\n\n**(1) honey  (2) wool  (3) milk  (4) eggs**\n\n\n\n**4. Responda as perguntas em inglês:**\n\n\n\na) What animal lives in a stable?\n\nb) What animal gives us wool?\n\nc) What animal do we ride?\n\nd) What animal likes to eat corn?\n\n\n\n**5. Desenhe sua fazenda e escreva o nome dos animais em inglês.** \n"
          },
          "metadata": {}
        },
        {
          "name": "stdout",
          "output_type": "stream",
          "text": [
            "Boa atividade!\n",
            "\n",
            "Você quer fazer mais questões sobre esse assunto?(Responda 'yes' caso queira): yes\n"
          ]
        },
        {
          "output_type": "display_data",
          "data": {
            "text/plain": [
              "<IPython.core.display.Markdown object>"
            ],
            "text/markdown": "\n## Mais Exercícios: Farm\n\n\n\n**1. Ligue as palavras às imagens:**\n\n\n\n**(a) barn  (b) tractor  (c) field  (d) farmhouse  (e) hay**\n\n\n\n**(1) Imagem de um celeiro  (2) Imagem de um trator (3) Imagem de um campo (4) Imagem de uma casa de fazenda (5) Imagem de feno**\n\n\n\n**2. Complete as frases com as palavras do exercício anterior:**\n\n\n\na) The farmer keeps his tools in the ______.\n\nb) The ______ is used to plow the fields.\n\nc) The farmer grows crops in the ______.\n\nd) The farmer lives in the ______.\n\ne) Cows eat ______.\n\n\n\n**3. Responda as perguntas em inglês:**\n\n\n\na) What does a farmer grow in the field?\n\nb) What does a farmer use to harvest crops?\n\nc) Where do farmers store hay?\n\nd) What animals live in a barn?\n\n\n\n**4. Escreva frases sobre o que um fazendeiro faz usando os verbos:** plant, harvest, milk, feed, drive.\n\n\n\n* Exemplo: A farmer plants seeds in the spring.\n\n\n\n**5. Desenhe uma fazenda e escreva o nome dos lugares e objetos em inglês. Use o vocabulário aprendido nos exercícios anteriores.** \n"
          },
          "metadata": {}
        },
        {
          "name": "stdout",
          "output_type": "stream",
          "text": [
            "Boa atividade!\n",
            "\n",
            "Você quer fazer mais questões sobre esse assunto?(Responda 'yes' caso queira): no\n",
            "Qual assunto você quer aprender?: fim\n"
          ]
        }
      ]
    }
  ]
}